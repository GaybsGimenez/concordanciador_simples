{
  "nbformat": 4,
  "nbformat_minor": 0,
  "metadata": {
    "colab": {
      "name": "Concordanciador_simples.ipynb",
      "provenance": [],
      "authorship_tag": "ABX9TyP2ZC1Fic5+Mqx6Btvy7D/C",
      "include_colab_link": true
    },
    "kernelspec": {
      "name": "python3",
      "display_name": "Python 3"
    },
    "language_info": {
      "name": "python"
    }
  },
  "cells": [
    {
      "cell_type": "markdown",
      "metadata": {
        "id": "view-in-github",
        "colab_type": "text"
      },
      "source": [
        "<a href=\"https://colab.research.google.com/github/GaybsGimenez/concordanciador_simples/blob/main/Concordanciador_simples.ipynb\" target=\"_parent\"><img src=\"https://colab.research.google.com/assets/colab-badge.svg\" alt=\"Open In Colab\"/></a>"
      ]
    },
    {
      "cell_type": "code",
      "source": [
        "conteudo = len('caminho_arquivo.txt')\n",
        "\n",
        "with open(file='caminho_arquivo.txt', mode='r', encoding='utf8') as texto:\n",
        "  def ler(texto):\n",
        "    conteudo = texto.read()\n",
        "  \n",
        "    return conteudo\n"
      ],
      "metadata": {
        "id": "o451QNtjZpAC"
      },
      "execution_count": null,
      "outputs": []
    },
    {
      "cell_type": "code",
      "source": [
        "print(len(texto))"
      ],
      "metadata": {
        "id": "nk7BGJPtYrTM"
      },
      "execution_count": null,
      "outputs": []
    },
    {
      "cell_type": "markdown",
      "source": [
        "# Concordanciador simples:\n",
        " Para realizar buscas por expressões no texto e apresentar o contexto onde elas se encontram."
      ],
      "metadata": {
        "id": "jVazhgSdeg6_"
      }
    },
    {
      "cell_type": "code",
      "source": [
        "def concordanciador(alvo,conteudo):  \n",
        "  conteudo = conteudo.replace('\\n', ' ')\n",
        "  conteudo = conteudo.replace('\\t', ' ')\n",
        "\n",
        "  ocorrencias = list()\n",
        "  encontrado_aqui = conteudo.find(alvo, 0)\n",
        "\n",
        "  while encontrado_aqui > 0:\n",
        "    pos_inicial = encontrado_aqui - (40 - len(alvo) //2)\n",
        "    ocorrencias.append(conteudo[pos_inicial : pos_inicial + 80])\n",
        "    encontrado_aqui = conteudo.find(alvo, encontrado_aqui + 1)\n",
        "\n",
        "  return ocorrencias"
      ],
      "metadata": {
        "id": "f04B-MuSgmTI"
      },
      "execution_count": null,
      "outputs": []
    },
    {
      "cell_type": "code",
      "source": [
        "resultados = concordanciador(' call', conteudo)\n",
        "for i in resultados:\n",
        "  print(i)"
      ],
      "metadata": {
        "id": "HImTJg7AnHPa"
      },
      "execution_count": null,
      "outputs": []
    },
    {
      "cell_type": "code",
      "source": [
        "resultados = concordanciador('call', conteudo)\n",
        "for i in resultados:\n",
        "  print(i)"
      ],
      "metadata": {
        "id": "kTmLLdZht6_y"
      },
      "execution_count": null,
      "outputs": []
    },
    {
      "cell_type": "markdown",
      "source": [
        "##Limpeza\n",
        "\n",
        "* SPLIT() - retorna uma lista de substring (palavras) separadas pelo espaço em branco"
      ],
      "metadata": {
        "id": "dt78jPQguThp"
      }
    },
    {
      "cell_type": "markdown",
      "source": [
        "Remover pontuação: necessário quando precisamos **contar palavras** que, de acordo com o critério adotado, são determinadas pelo espaço em branco. "
      ],
      "metadata": {
        "id": "VCwkw-X-utmO"
      }
    },
    {
      "cell_type": "code",
      "source": [
        "palavras = conteudo.split()\n"
      ],
      "metadata": {
        "id": "b0_bH8e3n-cy"
      },
      "execution_count": null,
      "outputs": []
    },
    {
      "cell_type": "code",
      "source": [
        "!pip install unidecode\n",
        "import unidecode\n"
      ],
      "metadata": {
        "colab": {
          "base_uri": "https://localhost:8080/"
        },
        "id": "HarcTrZUIOc3",
        "outputId": "563f43cd-7898-425a-cb96-319cbcabafc1"
      },
      "execution_count": null,
      "outputs": [
        {
          "output_type": "stream",
          "name": "stdout",
          "text": [
            "Collecting unidecode\n",
            "  Downloading Unidecode-1.3.4-py3-none-any.whl (235 kB)\n",
            "\u001b[?25l\r\u001b[K     |█▍                              | 10 kB 24.2 MB/s eta 0:00:01\r\u001b[K     |██▉                             | 20 kB 26.8 MB/s eta 0:00:01\r\u001b[K     |████▏                           | 30 kB 14.4 MB/s eta 0:00:01\r\u001b[K     |█████▋                          | 40 kB 11.2 MB/s eta 0:00:01\r\u001b[K     |███████                         | 51 kB 6.7 MB/s eta 0:00:01\r\u001b[K     |████████▍                       | 61 kB 7.8 MB/s eta 0:00:01\r\u001b[K     |█████████▊                      | 71 kB 8.3 MB/s eta 0:00:01\r\u001b[K     |███████████▏                    | 81 kB 7.5 MB/s eta 0:00:01\r\u001b[K     |████████████▌                   | 92 kB 8.2 MB/s eta 0:00:01\r\u001b[K     |██████████████                  | 102 kB 7.4 MB/s eta 0:00:01\r\u001b[K     |███████████████▎                | 112 kB 7.4 MB/s eta 0:00:01\r\u001b[K     |████████████████▊               | 122 kB 7.4 MB/s eta 0:00:01\r\u001b[K     |██████████████████              | 133 kB 7.4 MB/s eta 0:00:01\r\u001b[K     |███████████████████▌            | 143 kB 7.4 MB/s eta 0:00:01\r\u001b[K     |████████████████████▉           | 153 kB 7.4 MB/s eta 0:00:01\r\u001b[K     |██████████████████████▎         | 163 kB 7.4 MB/s eta 0:00:01\r\u001b[K     |███████████████████████▋        | 174 kB 7.4 MB/s eta 0:00:01\r\u001b[K     |█████████████████████████       | 184 kB 7.4 MB/s eta 0:00:01\r\u001b[K     |██████████████████████████▍     | 194 kB 7.4 MB/s eta 0:00:01\r\u001b[K     |███████████████████████████▉    | 204 kB 7.4 MB/s eta 0:00:01\r\u001b[K     |█████████████████████████████▏  | 215 kB 7.4 MB/s eta 0:00:01\r\u001b[K     |██████████████████████████████▋ | 225 kB 7.4 MB/s eta 0:00:01\r\u001b[K     |████████████████████████████████| 235 kB 7.4 MB/s eta 0:00:01\r\u001b[K     |████████████████████████████████| 235 kB 7.4 MB/s \n",
            "\u001b[?25hInstalling collected packages: unidecode\n",
            "Successfully installed unidecode-1.3.4\n"
          ]
        }
      ]
    },
    {
      "cell_type": "code",
      "source": [
        "def limpar(lista): #função limpar\n",
        "  lixo = '. , : ; ? ! \" () {} [] | \\ / # $ % ^ & * ´ ` '\n",
        "  return [x.strip(lixo).lower() for x in lista]"
      ],
      "metadata": {
        "id": "d6xGzhyL6jhK"
      },
      "execution_count": null,
      "outputs": []
    },
    {
      "cell_type": "code",
      "source": [
        "corpus_sujo = [ 'Banana', 'MAÇÃ' , 'abaca.te', 'meLancia']\n",
        "print(limpar(corpus_sujo))"
      ],
      "metadata": {
        "colab": {
          "base_uri": "https://localhost:8080/"
        },
        "id": "cYmQ5qCPCcS1",
        "outputId": "20fce7ca-9b3a-4ce2-e8a7-527f2f6c5246"
      },
      "execution_count": null,
      "outputs": [
        {
          "output_type": "stream",
          "name": "stdout",
          "text": [
            "['banana', 'maçã', 'abaca.te', 'melancia']\n"
          ]
        }
      ]
    },
    {
      "cell_type": "markdown",
      "source": [
        "* strip() : não remove a pontuação que não esteja no início ou fim da string.\n",
        "Resolve parte, mas não o problema todo\n"
      ],
      "metadata": {
        "id": "9sC1pug9OCLc"
      }
    },
    {
      "cell_type": "code",
      "source": [
        "def limpar(lista): \n",
        "  lixo = '. , : ; ? ! \" () {} [] | \\ / # $ % ^ & * ´ ` '\n",
        "  quase_limpo = [x.strinp(lixo).lower() for x in lista]\n",
        "  \n",
        "  return [ x for x in quase_limpo if x.isalpha() or '-' in x]"
      ],
      "metadata": {
        "id": "FVfXs3J6OBXu"
      },
      "execution_count": null,
      "outputs": []
    },
    {
      "cell_type": "markdown",
      "source": [
        "filtros, duas etapas: \n",
        "* 1º metodo strip()\n",
        "* 2º isalpha() elimina strings que não estejam exclusivamente constituidas pelas letras, menos as hifienizadas. "
      ],
      "metadata": {
        "id": "tR5xi0KAwv0V"
      }
    },
    {
      "cell_type": "markdown",
      "source": [
        "Teste -  função limpar()"
      ],
      "metadata": {
        "id": "tTe14Ir-PUCb"
      }
    },
    {
      "cell_type": "code",
      "source": [
        "corpus_sujo = [ 'Banana', 'MAÇÃ' , 'abaca.te', 'meLancia']\n",
        "print(limpar(corpus_sujo))"
      ],
      "metadata": {
        "id": "_ymnsh7Fyk8P"
      },
      "execution_count": null,
      "outputs": []
    },
    {
      "cell_type": "code",
      "source": [
        "len(conteudo)"
      ],
      "metadata": {
        "id": "jMGcZk1pPTac"
      },
      "execution_count": null,
      "outputs": []
    },
    {
      "cell_type": "code",
      "source": [
        "palavras = limpar(palavras)\n",
        "len(palavras)"
      ],
      "metadata": {
        "id": "oOrJzaaaD4DN"
      },
      "execution_count": null,
      "outputs": []
    },
    {
      "cell_type": "markdown",
      "source": [
        "Quatidade inicial: 10.075.837\n",
        "\n",
        "quantidade pós_limpeza: 1.744.824\n",
        "\n",
        "results: 8.331.013"
      ],
      "metadata": {
        "id": "Eygnu_a1azz7"
      }
    },
    {
      "cell_type": "markdown",
      "source": [
        "# Vocabulario e riqueza lexical\n",
        "\n",
        "* contagem de palavras: análise quantitativa"
      ],
      "metadata": {
        "id": "BcNLvGVhVJ3u"
      }
    },
    {
      "cell_type": "code",
      "source": [
        "vocabulario = set(palavras) #transformar lista em conjunto para não repetir palavras\n",
        "len(vocabulario)"
      ],
      "metadata": {
        "id": "vgPpZepQVRod"
      },
      "execution_count": null,
      "outputs": []
    },
    {
      "cell_type": "markdown",
      "source": [
        "## Riqueza Lexical: numero distinto de palavras(types) pelo numero total de palavras(tokens)\n",
        "\n",
        "Riqueza lexical = TYPES/TOKENS"
      ],
      "metadata": {
        "id": "qN7xkMqbV1bk"
      }
    },
    {
      "cell_type": "markdown",
      "source": [
        "quanto mais diverso o texto, maior a riqueza. ou seja, mais próximo de 1. \n",
        "\n",
        "no nosso caso, temos pouca riqueza lexical por se tratar especificamente de ligações de PABX da própria Reach."
      ],
      "metadata": {
        "id": "6To0S95uWeht"
      }
    },
    {
      "cell_type": "code",
      "source": [
        "riqueza = len(vocabulario) / len(palavras)\n",
        "riqueza"
      ],
      "metadata": {
        "id": "1V3X0bxqWJB5"
      },
      "execution_count": null,
      "outputs": []
    },
    {
      "cell_type": "markdown",
      "source": [
        "# Palavras por ocorrência: classificação\n",
        "\n",
        "Associar palavras com seu numero de ocorrencia\n",
        "\n",
        "funçao a seguir: \n",
        "\n",
        "dicionario default = valor padrão 0\n",
        "percorre a lista inteira de palavras do corpus, incluindo-as no dicionario e soma 1. \n",
        "sempre soma-se 1 ao valor quando aparecer outro type(palavra) igual."
      ],
      "metadata": {
        "id": "aAfAKZDAWmvd"
      }
    },
    {
      "cell_type": "code",
      "source": [
        "def ocorrencia (lista_palavras):\n",
        "  dicionario = defaultdict(int)\n",
        "  for p in lista_palavras:\n",
        "    dicionario[p] += 1\n",
        "\n",
        "    return dicionario"
      ],
      "metadata": {
        "id": "iYhuEPkQWt1F"
      },
      "execution_count": null,
      "outputs": []
    },
    {
      "cell_type": "code",
      "source": [
        "from collections import defaultdict"
      ],
      "metadata": {
        "id": "WQ72drm_dsP_"
      },
      "execution_count": null,
      "outputs": []
    },
    {
      "cell_type": "code",
      "source": [
        "dic = ocorrencia(palavras)\n",
        "mf = sorted(dic.items(), key=lambda tupla:tupla[1], reverse=True) \n",
        "for palavra, n in mf: \n",
        "    print(palavra, '\\t', n)\n"
      ],
      "metadata": {
        "id": "xb876pqQeScD",
        "colab": {
          "base_uri": "https://localhost:8080/"
        },
        "outputId": "78327c68-5213-4d4d-ee80-8a90464cef90"
      },
      "execution_count": null,
      "outputs": [
        {
          "output_type": "stream",
          "name": "stdout",
          "text": [
            "id_ligc \t 1\n"
          ]
        }
      ]
    }
  ]
}